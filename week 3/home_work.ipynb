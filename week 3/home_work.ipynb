{
 "cells": [
  {
   "cell_type": "code",
   "execution_count": 2,
   "id": "60081678",
   "metadata": {},
   "outputs": [],
   "source": [
    "import numpy as np"
   ]
  },
  {
   "cell_type": "code",
   "execution_count": 3,
   "id": "a413d7c6",
   "metadata": {},
   "outputs": [
    {
     "name": "stdout",
     "output_type": "stream",
     "text": [
      "[60 60 58  8  1 79 40 79 93 44]\n"
     ]
    }
   ],
   "source": [
    "random_array = np.random.randint(0, 100, size=10)\n",
    "print(random_array)"
   ]
  },
  {
   "cell_type": "code",
   "execution_count": 4,
   "id": "bcc2cc9f",
   "metadata": {},
   "outputs": [
    {
     "name": "stdout",
     "output_type": "stream",
     "text": [
      "[33 31 39 17 35 22 41 14 25 35]\n"
     ]
    }
   ],
   "source": [
    "random_array = np.random.randint(0, 50, size=10)\n",
    "print(random_array)"
   ]
  },
  {
   "cell_type": "code",
   "execution_count": 5,
   "id": "0f283086",
   "metadata": {},
   "outputs": [
    {
     "name": "stdout",
     "output_type": "stream",
     "text": [
      "[33 31 39 17 35 22 41 14 25 35]\n",
      "29.2\n"
     ]
    }
   ],
   "source": [
    "avg = np.mean(random_array)\n",
    "print(random_array)\n",
    "print(avg)"
   ]
  },
  {
   "cell_type": "markdown",
   "id": "5e59bafe",
   "metadata": {},
   "source": [
    "תרגיל 2:"
   ]
  },
  {
   "cell_type": "code",
   "execution_count": 8,
   "id": "372fadae",
   "metadata": {},
   "outputs": [
    {
     "name": "stdout",
     "output_type": "stream",
     "text": [
      "[[30 44 62]\n",
      " [53 84 64]\n",
      " [51 59 92]\n",
      " [60  2 13]\n",
      " [ 1 56 81]\n",
      " [15 29 42]]\n",
      "46.55555555555556\n"
     ]
    }
   ],
   "source": [
    "arr1 = np.random.randint(0, 100, size = (3,3))\n",
    "arr2 = np.random.randint(0, 100, size = (3,3))\n",
    "result = np.vstack((arr1, arr2))\n",
    "print(result)\n",
    "avg = np.mean(result)\n",
    "print(avg)"
   ]
  },
  {
   "cell_type": "markdown",
   "id": "16b0fff4",
   "metadata": {},
   "source": [
    "תרגיל 3:"
   ]
  },
  {
   "cell_type": "code",
   "execution_count": 11,
   "id": "ce08b503",
   "metadata": {},
   "outputs": [
    {
     "name": "stdout",
     "output_type": "stream",
     "text": [
      "[77 66 51 43 16 29 29  1 12 82  6 35 86 23 57 56  7 60 16 71]\n",
      "[77 66 51 82 86 57 56 60 71]\n"
     ]
    }
   ],
   "source": [
    "random_array = np.random.randint(1, 100, size = 20)\n",
    "print(random_array)\n",
    "more_than_50 = random_array[random_array > 50]\n",
    "print(more_than_50)"
   ]
  },
  {
   "cell_type": "markdown",
   "id": "3c7ad1a6",
   "metadata": {},
   "source": [
    "תרגיל 4:"
   ]
  },
  {
   "cell_type": "code",
   "execution_count": 13,
   "id": "6b318337",
   "metadata": {},
   "outputs": [
    {
     "name": "stdout",
     "output_type": "stream",
     "text": [
      "[8, 7, 9, 1, 5, 4, 6, 2, 3, 10]\n"
     ]
    }
   ],
   "source": [
    "array = [1, 2, 3, 4, 5, 6, 7, 8, 9, 10]\n",
    "import random\n",
    "random.shuffle(array)\n",
    "print(array)"
   ]
  },
  {
   "cell_type": "code",
   "execution_count": 17,
   "id": "7b50426b",
   "metadata": {},
   "outputs": [
    {
     "name": "stdout",
     "output_type": "stream",
     "text": [
      "C:\\לימודים יד\\ADVANCED PYTHON\\שיעור 3\n",
      "שיעור 3\n"
     ]
    }
   ],
   "source": [
    "import os\n",
    "print(os.getcwd())\n",
    "import os\n",
    "\n",
    "# קבלת שם הקובץ הנוכחי\n",
    "current_file = os.path.basename(os.getcwd())\n",
    "print(current_file)\n",
    "\n"
   ]
  },
  {
   "cell_type": "code",
   "execution_count": null,
   "id": "72f91e0e",
   "metadata": {},
   "outputs": [],
   "source": []
  }
 ],
 "metadata": {
  "kernelspec": {
   "display_name": "Python 3 (ipykernel)",
   "language": "python",
   "name": "python3"
  },
  "language_info": {
   "codemirror_mode": {
    "name": "ipython",
    "version": 3
   },
   "file_extension": ".py",
   "mimetype": "text/x-python",
   "name": "python",
   "nbconvert_exporter": "python",
   "pygments_lexer": "ipython3",
   "version": "3.10.9"
  }
 },
 "nbformat": 4,
 "nbformat_minor": 5
}
